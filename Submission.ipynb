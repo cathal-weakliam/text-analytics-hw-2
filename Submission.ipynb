{
 "cells": [
  {
   "cell_type": "markdown",
   "metadata": {},
   "source": [
    "# Plan\n",
    "- Preprocessing\n",
    "    - do data analysis on tokens\n",
    "\n",
    "- Test which preprocessing is best w/ simple model\n",
    "    - pick best by accuracy on task using simple model (Naive B)\n",
    "    - do data analysis on the vectors\n",
    "\n",
    "- Try out a bunch of different models; pick best three\n",
    "- Model 1 section\n",
    "    - discuss\n",
    "    - train\n",
    "    - hyperparameter optimization (using F1 averaged over classes)\n",
    "    - evaluate in detail\n",
    "- Model 2 section\n",
    "- Model 3 section\n",
    "\n",
    "- Try ensembling (evaluate using F1 again, decide if it's worth it)\n",
    "\n",
    "- Apply final model to test set"
   ]
  },
  {
   "cell_type": "code",
   "execution_count": null,
   "metadata": {},
   "outputs": [],
   "source": []
  }
 ],
 "metadata": {
  "kernelspec": {
   "display_name": "Python 3",
   "language": "python",
   "name": "python3"
  },
  "language_info": {
   "codemirror_mode": {
    "name": "ipython",
    "version": 3
   },
   "file_extension": ".py",
   "mimetype": "text/x-python",
   "name": "python",
   "nbconvert_exporter": "python",
   "pygments_lexer": "ipython3",
   "version": "3.7.0"
  }
 },
 "nbformat": 4,
 "nbformat_minor": 2
}
