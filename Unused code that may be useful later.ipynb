{
 "cells": [
  {
   "cell_type": "markdown",
   "metadata": {},
   "source": [
    "## KNN"
   ]
  },
  {
   "cell_type": "code",
   "execution_count": null,
   "metadata": {},
   "outputs": [],
   "source": [
    "import math\n",
    "#caluclate the distance between values, lengt represents attributes being included\n",
    "def euclideanDistance(value1, value2):\n",
    "    distance = 0;\n",
    "    for x in range(len(value1)):\n",
    "        distance += pow((value1[x] - value2[x]), 2)\n",
    "    return math.sqrt(distance)"
   ]
  },
  {
   "cell_type": "code",
   "execution_count": null,
   "metadata": {},
   "outputs": [],
   "source": [
    "import operator\n",
    "#return k most similar neighbours for testValue\n",
    "def getNeighbours(trainingSet, testValue, k):\n",
    "    nearest_dist = [] #store values of nearest distance to the test data\n",
    "    length = len(testValue)\n",
    "    for x in range(len(trainingSet)):\n",
    "        euc_distance = euclideanDistance(testValue, trainingSet[x], length)\n",
    "        nearest_dist.append((trainingSet[x], euc_distance))\n",
    "        nearest_dist.sort(key=operator.itemgetter(1))\n",
    "        neighbours = []\n",
    "        for x in range(k):\n",
    "            neighbours.append(nearest_dist[x][0])\n",
    "        return neighbours"
   ]
  },
  {
   "cell_type": "code",
   "execution_count": null,
   "metadata": {},
   "outputs": [],
   "source": [
    "# Predict votes based on neighbours. majority vote is decided by the neighbours and is taken as a prediction\n",
    "def getVotes(neighbours):\n",
    "    classLabel_Votes = {}\n",
    "    for x in range(len(neighbours)):\n",
    "        vote = neighbours[x][-1]\n",
    "        if vote in classLabel_Votes:\n",
    "            classLabel_Votes[vote] += 1\n",
    "        else:\n",
    "            classLabel_Votes[vote] = 1\n",
    "    sortedVotes = sorted(classLabel_Votes.items(), key=operator.itemgetter(1), reverse=True)\n",
    "    return sortedVotes[0][0]"
   ]
  },
  {
   "cell_type": "code",
   "execution_count": null,
   "metadata": {},
   "outputs": [],
   "source": [
    "# Evaluate prediction accuracy \n",
    "def getAccuracy(testData, predications):\n",
    "    corr_predicted = 0\n",
    "    for x in range(len(testData)):\n",
    "        if(testData[x][-1] is predictions[x]):\n",
    "            corr_predicted += 1\n",
    "    return (corr_predicted/float(len(testData)))*100.0"
   ]
  },
  {
   "cell_type": "code",
   "execution_count": null,
   "metadata": {},
   "outputs": [],
   "source": [
    "predictions=[]\n",
    "k=3\n",
    "for index, row in test.iterrows():\n",
    "    neighbours = getNeighbours(train, test.iloc[index]['tfidf'], k)\n",
    "    result = getVotes(neighbours)\n",
    "    predictions.append(result)\n",
    "    print('pred=' + repr(result) + ', actual=' + repr(test[x]))\n",
    "accuracy = getAccuracy(test, predictions)\n",
    "print('Accuracy: ' + repr(accuracy) + '%')"
   ]
  }
 ],
 "metadata": {
  "kernelspec": {
   "display_name": "Python 3",
   "language": "python",
   "name": "python3"
  },
  "language_info": {
   "codemirror_mode": {
    "name": "ipython",
    "version": 3
   },
   "file_extension": ".py",
   "mimetype": "text/x-python",
   "name": "python",
   "nbconvert_exporter": "python",
   "pygments_lexer": "ipython3",
   "version": "3.7.0"
  }
 },
 "nbformat": 4,
 "nbformat_minor": 2
}
