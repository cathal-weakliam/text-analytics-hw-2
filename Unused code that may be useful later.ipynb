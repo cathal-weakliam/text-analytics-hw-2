{
 "cells": [
  {
   "cell_type": "markdown",
   "metadata": {},
   "source": [
    "## KNN"
   ]
  },
  {
   "cell_type": "code",
   "execution_count": null,
   "metadata": {
    "collapsed": true
   },
   "outputs": [],
   "source": [
    "import math\n",
    "#caluclate the distance between values, lengt represents attributes being included\n",
    "def euclideanDistance(value1, value2):\n",
    "    distance = 0;\n",
    "    for x in range(len(value1)):\n",
    "        distance += pow((value1[x] - value2[x]), 2)\n",
    "    return math.sqrt(distance)"
   ]
  },
  {
   "cell_type": "code",
   "execution_count": null,
   "metadata": {
    "collapsed": true
   },
   "outputs": [],
   "source": [
    "import operator\n",
    "#return k most similar neighbours for testValue\n",
    "def getNeighbours(trainingSet, testValue, k):\n",
    "    nearest_dist = [] #store values of nearest distance to the test data\n",
    "    length = len(testValue)\n",
    "    for x in range(len(trainingSet)):\n",
    "        euc_distance = euclideanDistance(testValue, trainingSet[x], length)\n",
    "        nearest_dist.append((trainingSet[x], euc_distance))\n",
    "        nearest_dist.sort(key=operator.itemgetter(1))\n",
    "        neighbours = []\n",
    "        for x in range(k):\n",
    "            neighbours.append(nearest_dist[x][0])\n",
    "        return neighbours"
   ]
  },
  {
   "cell_type": "code",
   "execution_count": null,
   "metadata": {
    "collapsed": true
   },
   "outputs": [],
   "source": [
    "# Predict votes based on neighbours. majority vote is decided by the neighbours and is taken as a prediction\n",
    "def getVotes(neighbours):\n",
    "    classLabel_Votes = {}\n",
    "    for x in range(len(neighbours)):\n",
    "        vote = neighbours[x][-1]\n",
    "        if vote in classLabel_Votes:\n",
    "            classLabel_Votes[vote] += 1\n",
    "        else:\n",
    "            classLabel_Votes[vote] = 1\n",
    "    sortedVotes = sorted(classLabel_Votes.items(), key=operator.itemgetter(1), reverse=True)\n",
    "    return sortedVotes[0][0]"
   ]
  },
  {
   "cell_type": "code",
   "execution_count": null,
   "metadata": {
    "collapsed": true
   },
   "outputs": [],
   "source": [
    "# Evaluate prediction accuracy \n",
    "def getAccuracy(testData, predications):\n",
    "    corr_predicted = 0\n",
    "    for x in range(len(testData)):\n",
    "        if(testData[x][-1] is predictions[x]):\n",
    "            corr_predicted += 1\n",
    "    return (corr_predicted/float(len(testData)))*100.0"
   ]
  },
  {
   "cell_type": "code",
   "execution_count": null,
   "metadata": {
    "collapsed": true
   },
   "outputs": [],
   "source": [
    "predictions=[]\n",
    "k=3\n",
    "for index, row in test.iterrows():\n",
    "    neighbours = getNeighbours(train, test.iloc[index]['tfidf'], k)\n",
    "    result = getVotes(neighbours)\n",
    "    predictions.append(result)\n",
    "    print('pred=' + repr(result) + ', actual=' + repr(test[x]))\n",
    "accuracy = getAccuracy(test, predictions)\n",
    "print('Accuracy: ' + repr(accuracy) + '%')"
   ]
  },
  {
   "cell_type": "code",
   "execution_count": null,
   "metadata": {},
   "outputs": [],
   "source": [
    "from collections import defaultdict\n",
    "from operator import itemgetter\n",
    "\n",
    "tp = 0\n",
    "sample_size = 5\n",
    "\n",
    "for i in range(len(test)):\n",
    "    nearest_neighbours = get_nearest_neighbours(test.iloc[i]['tfidf'])\n",
    "    sort_NN = list(sorted(nearest_neighbours, key=lambda x: x[1], reverse=True)) # sort the returned list of vectors in order of highest to loweest distance\n",
    "    \n",
    "    k=10\n",
    "    votes = defaultdict(int) # create dictionary of votes and tallied votes\n",
    "    for j in range(k):\n",
    "        votes[sort_NN[j][0]] += 1\n",
    "    final_vote = list(sorted(votes.items(), key=itemgetter(1), reverse=True ))[0][0] # put highest voted value first\n",
    "    tp += int(final_vote == test.iloc[j]['category'])\n",
    "    \n",
    "accuracy = tp / len(test)\n",
    "    # logic for choosing what got voted for\n",
    "    # if category voted for equals best label \n",
    "    \n",
    "print(accuracy)\n",
    "print(final_vote)"
   ]
  },
  {
   "cell_type": "markdown",
   "metadata": {},
   "source": [
    "# Most Common N-Grams per Document Category"
   ]
  },
  {
   "cell_type": "markdown",
   "metadata": {},
   "source": [
    "#### Within Each Category\n",
    "\n",
    "We now look at the most common words within documents grouped by their category."
   ]
  },
  {
   "cell_type": "code",
   "execution_count": null,
   "metadata": {
    "collapsed": true
   },
   "outputs": [],
   "source": [
    "categories = df_handle.category.unique()\n",
    "\n",
    "category_tokens = df_handle[df_handle.category == category].tokens\n",
    "combined_tokens = [token for tokens in category_tokens for token in tokens]\n",
    "\n",
    "# print(\"Most Popular N-Grams for \", category.title())\n",
    "# for n in (1,2,3):\n",
    "#     ngrams = nltk.ngrams(combined_tokens, n)\n",
    "#     freq_dist = nltk.FreqDist(ngrams)\n",
    "#     most_common_ngrams = freq_dist.most_common(5)\n",
    "    \n",
    "#     print(\"{}-grams: \".format(n), most_common_ngrams)\n",
    "\n",
    "ngrams = (1,2,3)\n",
    "fig, axis = plt.subplots(5,3, figsize=(10,10), sharex='col')\n",
    "\n",
    "for i, category in enumerate(categories):\n",
    "    category_tokens = df_handle[df_handle.category == category].tokens\n",
    "    for j, n in enumerate(ngrams):\n",
    "        plot_ngrams(category_tokens, n, axis=axis[i][j])\n",
    "        axis[i][j].set_title(\"\")\n",
    "    \n",
    "    axis[i][0].set_title(category.title())\n",
    "        \n",
    "plt.tight_layout()    \n",
    "\n",
    "plt.savefig('images/most-common-n-grams-per-category.png')\n",
    "plt.show()\n",
    "    \n",
    "pass"
   ]
  }
 ],
 "metadata": {
  "kernelspec": {
   "display_name": "Python 3",
   "language": "python",
   "name": "python3"
  },
  "language_info": {
   "codemirror_mode": {
    "name": "ipython",
    "version": 3
   },
   "file_extension": ".py",
   "mimetype": "text/x-python",
   "name": "python",
   "nbconvert_exporter": "python",
   "pygments_lexer": "ipython3",
   "version": "3.6.6"
  },
  "toc": {
   "base_numbering": 1,
   "nav_menu": {},
   "number_sections": true,
   "sideBar": true,
   "skip_h1_title": false,
   "title_cell": "Table of Contents",
   "title_sidebar": "Contents",
   "toc_cell": false,
   "toc_position": {},
   "toc_section_display": true,
   "toc_window_display": false
  }
 },
 "nbformat": 4,
 "nbformat_minor": 2
}
